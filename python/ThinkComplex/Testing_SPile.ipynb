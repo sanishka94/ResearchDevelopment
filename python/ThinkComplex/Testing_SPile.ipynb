{
 "cells": [
  {
   "cell_type": "code",
   "execution_count": 1,
   "metadata": {},
   "outputs": [],
   "source": [
    "import numpy as np\n",
    "import warnings\n",
    "import matplotlib.cbook\n",
    "warnings.filterwarnings(\"ignore\",category=matplotlib.cbook.mplDeprecation)\n",
    "\n",
    "from matplotlib import rc\n",
    "rc('animation', html='jshtml')\n",
    "\n",
    "from scipy.signal import correlate2d\n",
    "import matplotlib.pyplot as plt\n",
    "from matplotlib.colors import LinearSegmentedColormap\n",
    "\n",
    "import thinkplot\n",
    "from thinkstats2 import Pmf, Cdf\n",
    "from thinkstats2 import RandomSeed\n",
    "\n",
    "from Cell2D import Cell2D, Cell2DViewer\n",
    "from Sand import SandPile, SandPileViewer"
   ]
  },
  {
   "cell_type": "code",
   "execution_count": 15,
   "metadata": {},
   "outputs": [],
   "source": [
    "class SPile(Cell2D):\n",
    "    kernal = np.array([[0, 1, 0], [1, -4, 1], [0, 1, 0]])\n",
    "    k = 3\n",
    "    toppled_seq = []\n",
    "    \n",
    "    def __init__(self, n=3, m=None, level=3):\n",
    "        m = n if m==None else m\n",
    "        self.n = n\n",
    "        self.m = m\n",
    "        \n",
    "        self.array = np.ones((n, m), dtype=np.int32) * level\n",
    "        self.level = level\n",
    "    \n",
    "    def step(self):\n",
    "        toppling = self.array > self.k\n",
    "        num_toppled = np.sum(toppling)\n",
    "        \n",
    "        c = correlate2d(toppling, self.kernal, mode='same')\n",
    "        self.array += c\n",
    "\n",
    "class SPileViewer(Cell2DViewer):\n",
    "    vmax = 3\n",
    "    options = dict(alpha=0.6, interpolation='nearest', vmin=0, vmax=vmax)\n",
    "    colors = [(0, 'white'), (1/vmax, 'Yellow'), (2/vmax, 'Blue'), (3/vmax, 'Red')]\n",
    "    cmap = LinearSegmentedColormap.from_list('mycmap', colors)"
   ]
  },
  {
   "cell_type": "code",
   "execution_count": 16,
   "metadata": {},
   "outputs": [
    {
     "data": {
      "image/png": "[encoded data removed]",
      "text/plain": [
       "<Figure size 432x288 with 1 Axes>"
      ]
     },
     "metadata": {},
     "output_type": "display_data"
    }
   ],
   "source": [
    "n=128\n",
    "spile = SPile(n=n, level=10)\n",
    "spile.array[n//2, n//2] = 2**30\n",
    "for i in range(1, 10000):\n",
    "    spile.step()\n",
    "viewer = SPileViewer(spile)\n",
    "anim = viewer.animate(frames=1000, interval=5)"
   ]
  },
  {
   "cell_type": "code",
   "execution_count": null,
   "metadata": {},
   "outputs": [],
   "source": []
  }
 ],
 "metadata": {
  "kernelspec": {
   "display_name": "Python 3",
   "language": "python",
   "name": "python3"
  },
  "language_info": {
   "codemirror_mode": {
    "name": "ipython",
    "version": 3
   },
   "file_extension": ".py",
   "mimetype": "text/x-python",
   "name": "python",
   "nbconvert_exporter": "python",
   "pygments_lexer": "ipython3",
   "version": "3.7.3"
  }
 },
 "nbformat": 4,
 "nbformat_minor": 2
}
